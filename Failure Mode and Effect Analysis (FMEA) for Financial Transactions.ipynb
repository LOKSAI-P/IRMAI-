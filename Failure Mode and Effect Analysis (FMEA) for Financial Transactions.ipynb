{
 "cells": [
  {
   "cell_type": "code",
   "execution_count": 1,
   "id": "d8dd2da5-a8e2-44f3-9dfe-17f1d973d7e4",
   "metadata": {},
   "outputs": [
    {
     "name": "stdout",
     "output_type": "stream",
     "text": [
      "Requirement already satisfied: yfinance in c:\\users\\loksa\\appdata\\local\\programs\\python\\python313\\lib\\site-packages (0.2.53)\n",
      "Requirement already satisfied: py2neo in c:\\users\\loksa\\appdata\\local\\programs\\python\\python313\\lib\\site-packages (2021.2.4)\n",
      "Requirement already satisfied: pandas in c:\\users\\loksa\\appdata\\local\\programs\\python\\python313\\lib\\site-packages (2.2.3)\n",
      "Requirement already satisfied: numpy in c:\\users\\loksa\\appdata\\local\\programs\\python\\python313\\lib\\site-packages (2.2.3)\n",
      "Requirement already satisfied: matplotlib in c:\\users\\loksa\\appdata\\local\\programs\\python\\python313\\lib\\site-packages (3.10.0)\n",
      "Requirement already satisfied: plotly in c:\\users\\loksa\\appdata\\local\\programs\\python\\python313\\lib\\site-packages (6.0.0)\n",
      "Requirement already satisfied: requests>=2.31 in c:\\users\\loksa\\appdata\\local\\programs\\python\\python313\\lib\\site-packages (from yfinance) (2.32.3)\n",
      "Requirement already satisfied: multitasking>=0.0.7 in c:\\users\\loksa\\appdata\\local\\programs\\python\\python313\\lib\\site-packages (from yfinance) (0.0.11)\n",
      "Requirement already satisfied: platformdirs>=2.0.0 in c:\\users\\loksa\\appdata\\local\\programs\\python\\python313\\lib\\site-packages (from yfinance) (4.3.6)\n",
      "Requirement already satisfied: pytz>=2022.5 in c:\\users\\loksa\\appdata\\local\\programs\\python\\python313\\lib\\site-packages (from yfinance) (2025.1)\n",
      "Requirement already satisfied: frozendict>=2.3.4 in c:\\users\\loksa\\appdata\\local\\programs\\python\\python313\\lib\\site-packages (from yfinance) (2.4.6)\n",
      "Requirement already satisfied: peewee>=3.16.2 in c:\\users\\loksa\\appdata\\local\\programs\\python\\python313\\lib\\site-packages (from yfinance) (3.17.9)\n",
      "Requirement already satisfied: beautifulsoup4>=4.11.1 in c:\\users\\loksa\\appdata\\local\\programs\\python\\python313\\lib\\site-packages (from yfinance) (4.13.3)\n",
      "Requirement already satisfied: certifi in c:\\users\\loksa\\appdata\\local\\programs\\python\\python313\\lib\\site-packages (from py2neo) (2025.1.31)\n",
      "Requirement already satisfied: interchange~=2021.0.4 in c:\\users\\loksa\\appdata\\local\\programs\\python\\python313\\lib\\site-packages (from py2neo) (2021.0.4)\n",
      "Requirement already satisfied: monotonic in c:\\users\\loksa\\appdata\\local\\programs\\python\\python313\\lib\\site-packages (from py2neo) (1.6)\n",
      "Requirement already satisfied: packaging in c:\\users\\loksa\\appdata\\local\\programs\\python\\python313\\lib\\site-packages (from py2neo) (24.2)\n",
      "Requirement already satisfied: pansi>=2020.7.3 in c:\\users\\loksa\\appdata\\local\\programs\\python\\python313\\lib\\site-packages (from py2neo) (2024.11.0)\n",
      "Requirement already satisfied: pygments>=2.0.0 in c:\\users\\loksa\\appdata\\local\\programs\\python\\python313\\lib\\site-packages (from py2neo) (2.19.1)\n",
      "Requirement already satisfied: six>=1.15.0 in c:\\users\\loksa\\appdata\\local\\programs\\python\\python313\\lib\\site-packages (from py2neo) (1.17.0)\n",
      "Requirement already satisfied: urllib3 in c:\\users\\loksa\\appdata\\local\\programs\\python\\python313\\lib\\site-packages (from py2neo) (2.3.0)\n",
      "Requirement already satisfied: python-dateutil>=2.8.2 in c:\\users\\loksa\\appdata\\local\\programs\\python\\python313\\lib\\site-packages (from pandas) (2.9.0.post0)\n",
      "Requirement already satisfied: tzdata>=2022.7 in c:\\users\\loksa\\appdata\\local\\programs\\python\\python313\\lib\\site-packages (from pandas) (2025.1)\n",
      "Requirement already satisfied: contourpy>=1.0.1 in c:\\users\\loksa\\appdata\\local\\programs\\python\\python313\\lib\\site-packages (from matplotlib) (1.3.1)\n",
      "Requirement already satisfied: cycler>=0.10 in c:\\users\\loksa\\appdata\\local\\programs\\python\\python313\\lib\\site-packages (from matplotlib) (0.12.1)\n",
      "Requirement already satisfied: fonttools>=4.22.0 in c:\\users\\loksa\\appdata\\local\\programs\\python\\python313\\lib\\site-packages (from matplotlib) (4.56.0)\n",
      "Requirement already satisfied: kiwisolver>=1.3.1 in c:\\users\\loksa\\appdata\\local\\programs\\python\\python313\\lib\\site-packages (from matplotlib) (1.4.8)\n",
      "Requirement already satisfied: pillow>=8 in c:\\users\\loksa\\appdata\\local\\programs\\python\\python313\\lib\\site-packages (from matplotlib) (11.1.0)\n",
      "Requirement already satisfied: pyparsing>=2.3.1 in c:\\users\\loksa\\appdata\\local\\programs\\python\\python313\\lib\\site-packages (from matplotlib) (3.2.1)\n",
      "Requirement already satisfied: narwhals>=1.15.1 in c:\\users\\loksa\\appdata\\local\\programs\\python\\python313\\lib\\site-packages (from plotly) (1.27.1)\n",
      "Requirement already satisfied: soupsieve>1.2 in c:\\users\\loksa\\appdata\\local\\programs\\python\\python313\\lib\\site-packages (from beautifulsoup4>=4.11.1->yfinance) (2.6)\n",
      "Requirement already satisfied: typing-extensions>=4.0.0 in c:\\users\\loksa\\appdata\\local\\programs\\python\\python313\\lib\\site-packages (from beautifulsoup4>=4.11.1->yfinance) (4.12.2)\n",
      "Requirement already satisfied: charset-normalizer<4,>=2 in c:\\users\\loksa\\appdata\\local\\programs\\python\\python313\\lib\\site-packages (from requests>=2.31->yfinance) (3.4.1)\n",
      "Requirement already satisfied: idna<4,>=2.5 in c:\\users\\loksa\\appdata\\local\\programs\\python\\python313\\lib\\site-packages (from requests>=2.31->yfinance) (3.10)\n"
     ]
    },
    {
     "name": "stderr",
     "output_type": "stream",
     "text": [
      "\n",
      "[notice] A new release of pip is available: 24.3.1 -> 25.0.1\n",
      "[notice] To update, run: python.exe -m pip install --upgrade pip\n"
     ]
    }
   ],
   "source": [
    "!pip install yfinance py2neo pandas numpy matplotlib plotly\n"
   ]
  },
  {
   "cell_type": "code",
   "execution_count": 2,
   "id": "5944dea9-d895-4360-9aea-825bac383101",
   "metadata": {},
   "outputs": [
    {
     "name": "stdout",
     "output_type": "stream",
     "text": [
      "Connected to Neo4j!\n"
     ]
    }
   ],
   "source": [
    "from neo4j import GraphDatabase\n",
    "\n",
    "# Neo4j connection details\n",
    "URI = \"bolt://localhost:7687\"  # Change if using remote Neo4j\n",
    "USERNAME = \"neo4j\"\n",
    "PASSWORD = \"password\"\n",
    "\n",
    "# Create Neo4j Driver\n",
    "driver = GraphDatabase.driver(URI, auth=(USERNAME, PASSWORD))\n",
    "\n",
    "# Test Connection\n",
    "def test_connection(tx):\n",
    "    result = tx.run(\"RETURN 'Connected to Neo4j!' AS message\")\n",
    "    return result.single()[\"message\"]\n",
    "\n",
    "with driver.session() as session:\n",
    "    message = session.execute_read(test_connection)\n",
    "    print(message)  # Output: Connected to Neo4j!\n"
   ]
  },
  {
   "cell_type": "code",
   "execution_count": 3,
   "id": "7aa4204b-04df-4c57-8feb-b5d2d4b6dba4",
   "metadata": {},
   "outputs": [
    {
     "name": "stdout",
     "output_type": "stream",
     "text": [
      "Transaction stored in Neo4j!\n"
     ]
    }
   ],
   "source": [
    "def create_transaction(tx, date, ticker, open_price, close_price, volume):\n",
    "    query = \"\"\"\n",
    "    CREATE (t:Transaction {date: $date, ticker: $ticker, open: $open_price, close: $close_price, volume: $volume})\n",
    "    RETURN t\n",
    "    \"\"\"\n",
    "    tx.run(query, date=date, ticker=ticker, open_price=open_price, close_price=close_price, volume=volume)\n",
    "\n",
    "# Example transaction data\n",
    "sample_transaction = {\n",
    "    \"date\": \"2024-02-18\",\n",
    "    \"ticker\": \"AAPL\",\n",
    "    \"open_price\": 177.83,\n",
    "    \"close_price\": 182.00,\n",
    "    \"volume\": 104487900\n",
    "}\n",
    "\n",
    "# Insert transaction into Neo4j\n",
    "with driver.session() as session:\n",
    "    session.execute_write(create_transaction, **sample_transaction)\n",
    "print(\"Transaction stored in Neo4j!\")\n"
   ]
  },
  {
   "cell_type": "code",
   "execution_count": 4,
   "id": "be7a4d11-35de-4123-b4b5-ca8ddaf13ff6",
   "metadata": {},
   "outputs": [
    {
     "name": "stdout",
     "output_type": "stream",
     "text": [
      "<Record date='2024-02-18' ticker='AAPL' open_price=177.83 close_price=182.0 volume=104487900>\n"
     ]
    }
   ],
   "source": [
    "def fetch_transactions(tx):\n",
    "    query = \"MATCH (t:Transaction) RETURN t.date AS date, t.ticker AS ticker, t.open AS open_price, t.close AS close_price, t.volume AS volume LIMIT 5\"\n",
    "    result = tx.run(query)\n",
    "    return [record for record in result]\n",
    "\n",
    "with driver.session() as session:\n",
    "    transactions = session.execute_read(fetch_transactions)\n",
    "\n",
    "for t in transactions:\n",
    "    print(t)\n"
   ]
  },
  {
   "cell_type": "code",
   "execution_count": 5,
   "id": "266967a6-3fbd-4939-a8b9-530573253cb4",
   "metadata": {},
   "outputs": [],
   "source": [
    "driver.close()\n"
   ]
  },
  {
   "cell_type": "code",
   "execution_count": 6,
   "id": "10b2798d-f7fb-4f76-9072-f6a90c6dd3d8",
   "metadata": {},
   "outputs": [
    {
     "name": "stderr",
     "output_type": "stream",
     "text": [
      "C:\\Users\\loksa\\AppData\\Local\\Temp\\ipykernel_2748\\3698637067.py:19: DeprecationWarning: Using a driver after it has been closed is deprecated. Future versions of the driver will raise an error.\n",
      "  with driver.session() as session:\n"
     ]
    },
    {
     "name": "stdout",
     "output_type": "stream",
     "text": [
      "Relationships created!\n"
     ]
    }
   ],
   "source": [
    "def create_relationships(tx):\n",
    "    # Create a NEXT relationship for consecutive transactions of the same ticker\n",
    "    query = \"\"\"\n",
    "    MATCH (t1:Transaction), (t2:Transaction)\n",
    "    WHERE t1.ticker = t2.ticker AND date(t1.date) = date(t2.date) - duration('P1D')\n",
    "    MERGE (t1)-[:NEXT]->(t2)\n",
    "    \"\"\"\n",
    "    tx.run(query)\n",
    "\n",
    "    # Create a SIMILAR relationship for transactions with similar price trends\n",
    "    query = \"\"\"\n",
    "    MATCH (t1:Transaction), (t2:Transaction)\n",
    "    WHERE t1.ticker = t2.ticker AND abs(t1.close - t2.close) < 5\n",
    "    MERGE (t1)-[:SIMILAR]->(t2)\n",
    "    \"\"\"\n",
    "    tx.run(query)\n",
    "\n",
    "# Execute relationship creation\n",
    "with driver.session() as session:\n",
    "    session.execute_write(create_relationships)\n",
    "\n",
    "print(\"Relationships created!\")\n"
   ]
  },
  {
   "cell_type": "code",
   "execution_count": 7,
   "id": "ea463c40-d2db-4519-bffa-c3bd66d02eaa",
   "metadata": {},
   "outputs": [
    {
     "name": "stdout",
     "output_type": "stream",
     "text": [
      "High-risk transactions identified: [<Record t.ticker='AAPL' t.date='2024-02-18' t.risk='High'>]\n"
     ]
    },
    {
     "name": "stderr",
     "output_type": "stream",
     "text": [
      "C:\\Users\\loksa\\AppData\\Local\\Temp\\ipykernel_2748\\3918074032.py:12: DeprecationWarning: Using a driver after it has been closed is deprecated. Future versions of the driver will raise an error.\n",
      "  with driver.session() as session:\n"
     ]
    }
   ],
   "source": [
    "def mark_risky_transactions(tx):\n",
    "    query = \"\"\"\n",
    "    MATCH (t:Transaction)\n",
    "    WHERE t.volume > 100000000 OR t.close < (t.open * 0.9)\n",
    "    SET t.risk = 'High'\n",
    "    RETURN t.ticker, t.date, t.risk\n",
    "    \"\"\"\n",
    "    result = tx.run(query)\n",
    "    return [record for record in result]\n",
    "\n",
    "# Execute risk labeling\n",
    "with driver.session() as session:\n",
    "    high_risk_transactions = session.execute_write(mark_risky_transactions)\n",
    "\n",
    "print(\"High-risk transactions identified:\", high_risk_transactions)\n"
   ]
  },
  {
   "cell_type": "code",
   "execution_count": 8,
   "id": "e8e408dd-a25e-4ddc-b47a-2d1c4325af5d",
   "metadata": {},
   "outputs": [
    {
     "name": "stderr",
     "output_type": "stream",
     "text": [
      "C:\\Users\\loksa\\AppData\\Local\\Temp\\ipykernel_2748\\892590003.py:14: DeprecationWarning: Using a driver after it has been closed is deprecated. Future versions of the driver will raise an error.\n",
      "  with driver.session() as session:\n"
     ]
    },
    {
     "data": {
      "image/png": "[encoded data removed]",
      "text/plain": [
       "<Figure size 1000x600 with 1 Axes>"
      ]
     },
     "metadata": {},
     "output_type": "display_data"
    }
   ],
   "source": [
    "import networkx as nx\n",
    "import matplotlib.pyplot as plt\n",
    "\n",
    "def fetch_graph_data(tx):\n",
    "    query = \"\"\"\n",
    "    MATCH (t1:Transaction)-[r]->(t2:Transaction)\n",
    "    RETURN t1.ticker AS from_ticker, t1.date AS from_date, \n",
    "           t2.ticker AS to_ticker, t2.date AS to_date, \n",
    "           type(r) AS relation\n",
    "    \"\"\"\n",
    "    result = tx.run(query)\n",
    "    return [record for record in result]\n",
    "\n",
    "with driver.session() as session:\n",
    "    edges = session.execute_read(fetch_graph_data)\n",
    "\n",
    "# Create a Graph using NetworkX\n",
    "G = nx.DiGraph()\n",
    "\n",
    "for edge in edges:\n",
    "    G.add_edge(f\"{edge['from_ticker']} ({edge['from_date']})\", \n",
    "               f\"{edge['to_ticker']} ({edge['to_date']})\", \n",
    "               relation=edge[\"relation\"])\n",
    "\n",
    "# Draw the Graph\n",
    "plt.figure(figsize=(10, 6))\n",
    "nx.draw(G, with_labels=True, node_color='lightblue', edge_color='gray', font_size=8, node_size=3000)\n",
    "plt.title(\"Financial Transactions Graph\")\n",
    "plt.show()\n"
   ]
  },
  {
   "cell_type": "code",
   "execution_count": null,
   "id": "427b353d-777c-474a-a432-4f01b784d942",
   "metadata": {},
   "outputs": [],
   "source": []
  }
 ],
 "metadata": {
  "kernelspec": {
   "display_name": "Python 3 (ipykernel)",
   "language": "python",
   "name": "python3"
  },
  "language_info": {
   "codemirror_mode": {
    "name": "ipython",
    "version": 3
   },
   "file_extension": ".py",
   "mimetype": "text/x-python",
   "name": "python",
   "nbconvert_exporter": "python",
   "pygments_lexer": "ipython3",
   "version": "3.13.2"
  }
 },
 "nbformat": 4,
 "nbformat_minor": 5
}
